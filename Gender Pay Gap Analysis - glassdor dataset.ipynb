{
 "cells": [
  {
   "cell_type": "code",
   "execution_count": 1,
   "id": "5084be6f",
   "metadata": {
    "_cell_guid": "383ec9a5-bf4e-42d4-ab6d-09b6f318a2c0",
    "_uuid": "28444fe2-186e-4368-b845-145c475e0933",
    "execution": {
     "iopub.execute_input": "2022-02-23T08:34:01.929170Z",
     "iopub.status.busy": "2022-02-23T08:34:01.927700Z",
     "iopub.status.idle": "2022-02-23T08:34:01.946637Z",
     "shell.execute_reply": "2022-02-23T08:34:01.945946Z",
     "shell.execute_reply.started": "2022-02-23T08:24:51.585386Z"
    },
    "jupyter": {
     "source_hidden": true
    },
    "papermill": {
     "duration": 0.030893,
     "end_time": "2022-02-23T08:34:01.946840",
     "exception": false,
     "start_time": "2022-02-23T08:34:01.915947",
     "status": "completed"
    },
    "tags": []
   },
   "outputs": [
    {
     "name": "stdout",
     "output_type": "stream",
     "text": [
      "/kaggle/input/glassdoor-analyze-gender-pay-gap/Glassdoor Gender Pay Gap.csv\n"
     ]
    }
   ],
   "source": [
    "# This Python 3 environment comes with many helpful analytics libraries installed\n",
    "# It is defined by the kaggle/python Docker image: https://github.com/kaggle/docker-python\n",
    "# For example, here's several helpful packages to load\n",
    "\n",
    "import numpy as np # linear algebra\n",
    "import pandas as pd # data processing, CSV file I/O (e.g. pd.read_csv)\n",
    "\n",
    "# Input data files are available in the read-only \"../input/\" directory\n",
    "# For example, running this (by clicking run or pressing Shift+Enter) will list all files under the input directory\n",
    "\n",
    "import os\n",
    "\n",
    "file_path = []\n",
    "for dirname, _, filenames in os.walk('/kaggle/input'):\n",
    "    for filename in filenames:\n",
    "        print(os.path.join(dirname, filename))\n",
    "        path = os.path.join(dirname,filename)\n",
    "        file_path = path\n",
    "        \n",
    "    \n",
    "\n",
    "# You can write up to 20GB to the current directory (/kaggle/working/) that gets preserved as output when you create a version using \"Save & Run All\" \n",
    "# You can also write temporary files to /kaggle/temp/, but they won't be saved outside of the current session"
   ]
  },
  {
   "cell_type": "code",
   "execution_count": 2,
   "id": "e0973992",
   "metadata": {
    "_cell_guid": "5a4b44af-f39a-45e2-93f4-e9a6c16c8402",
    "_uuid": "1dbe4954-1e55-408a-8b80-855f10dc928d",
    "execution": {
     "iopub.execute_input": "2022-02-23T08:34:01.965023Z",
     "iopub.status.busy": "2022-02-23T08:34:01.964282Z",
     "iopub.status.idle": "2022-02-23T08:34:01.983026Z",
     "shell.execute_reply": "2022-02-23T08:34:01.983741Z",
     "shell.execute_reply.started": "2022-02-23T08:24:51.620859Z"
    },
    "jupyter": {
     "source_hidden": true
    },
    "papermill": {
     "duration": 0.029585,
     "end_time": "2022-02-23T08:34:01.983971",
     "exception": false,
     "start_time": "2022-02-23T08:34:01.954386",
     "status": "completed"
    },
    "tags": []
   },
   "outputs": [],
   "source": [
    "data = pd.read_csv(file_path)\n",
    "\n"
   ]
  },
  {
   "cell_type": "code",
   "execution_count": 3,
   "id": "e0f7b913",
   "metadata": {
    "execution": {
     "iopub.execute_input": "2022-02-23T08:34:02.010564Z",
     "iopub.status.busy": "2022-02-23T08:34:02.009498Z",
     "iopub.status.idle": "2022-02-23T08:34:02.042575Z",
     "shell.execute_reply": "2022-02-23T08:34:02.043426Z",
     "shell.execute_reply.started": "2022-02-23T08:24:51.665732Z"
    },
    "jupyter": {
     "source_hidden": true
    },
    "papermill": {
     "duration": 0.052621,
     "end_time": "2022-02-23T08:34:02.043720",
     "exception": false,
     "start_time": "2022-02-23T08:34:01.991099",
     "status": "completed"
    },
    "tags": []
   },
   "outputs": [
    {
     "name": "stdout",
     "output_type": "stream",
     "text": [
      "<class 'pandas.core.frame.DataFrame'>\n",
      "RangeIndex: 1000 entries, 0 to 999\n",
      "Data columns (total 9 columns):\n",
      " #   Column     Non-Null Count  Dtype   \n",
      "---  ------     --------------  -----   \n",
      " 0   JobTitle   1000 non-null   category\n",
      " 1   Gender     1000 non-null   category\n",
      " 2   Age        1000 non-null   int64   \n",
      " 3   PerfEval   1000 non-null   int64   \n",
      " 4   Education  1000 non-null   category\n",
      " 5   Dept       1000 non-null   category\n",
      " 6   Seniority  1000 non-null   int64   \n",
      " 7   BasePay    1000 non-null   int64   \n",
      " 8   Bonus      1000 non-null   int64   \n",
      "dtypes: category(4), int64(5)\n",
      "memory usage: 44.0 KB\n"
     ]
    }
   ],
   "source": [
    "\n",
    "columns = ['JobTitle', 'Gender', 'Education', 'Dept']\n",
    "for col in columns:\n",
    "    data[col] = data[col].astype('category')\n",
    "\n",
    "    \n",
    "data.info()"
   ]
  },
  {
   "cell_type": "code",
   "execution_count": 4,
   "id": "531df2cc",
   "metadata": {
    "execution": {
     "iopub.execute_input": "2022-02-23T08:34:02.065148Z",
     "iopub.status.busy": "2022-02-23T08:34:02.064089Z",
     "iopub.status.idle": "2022-02-23T08:34:02.067248Z",
     "shell.execute_reply": "2022-02-23T08:34:02.067896Z",
     "shell.execute_reply.started": "2022-02-23T08:24:51.702763Z"
    },
    "papermill": {
     "duration": 0.016338,
     "end_time": "2022-02-23T08:34:02.068093",
     "exception": false,
     "start_time": "2022-02-23T08:34:02.051755",
     "status": "completed"
    },
    "tags": []
   },
   "outputs": [],
   "source": [
    "# Find unique job titles \n"
   ]
  }
 ],
 "metadata": {
  "kernelspec": {
   "display_name": "Python 3",
   "language": "python",
   "name": "python3"
  },
  "language_info": {
   "codemirror_mode": {
    "name": "ipython",
    "version": 3
   },
   "file_extension": ".py",
   "mimetype": "text/x-python",
   "name": "python",
   "nbconvert_exporter": "python",
   "pygments_lexer": "ipython3",
   "version": "3.7.12"
  },
  "papermill": {
   "default_parameters": {},
   "duration": 11.763749,
   "end_time": "2022-02-23T08:34:02.887366",
   "environment_variables": {},
   "exception": null,
   "input_path": "__notebook__.ipynb",
   "output_path": "__notebook__.ipynb",
   "parameters": {},
   "start_time": "2022-02-23T08:33:51.123617",
   "version": "2.3.3"
  }
 },
 "nbformat": 4,
 "nbformat_minor": 5
}
